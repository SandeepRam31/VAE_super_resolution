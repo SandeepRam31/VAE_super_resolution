{
 "cells": [
  {
   "cell_type": "code",
   "execution_count": 1,
   "id": "bef24122",
   "metadata": {},
   "outputs": [],
   "source": [
    "from tensorflow.keras.models import Model\n",
    "from tensorflow.keras.layers import Input, Conv2D, Dense, Flatten, Lambda, Reshape, Conv2DTranspose, Layer\n",
    "from tensorflow.keras import backend as K\n",
    "import tensorflow as tf\n",
    "from tqdm import tqdm\n",
    "import numpy as np\n",
    "import h5py\n",
    "import cv2\n",
    "import imageio\n",
    "import os"
   ]
  },
  {
   "cell_type": "code",
   "execution_count": 2,
   "id": "1dfb8379",
   "metadata": {},
   "outputs": [],
   "source": [
    "latent_dim = 5\n",
    "input_shape = (64, 64, 4)\n",
    "\n",
    "input_img = Input(shape=input_shape, name='encoder_input')\n",
    "x = Conv2D(32, 3, padding='same', activation='relu')(input_img)\n",
    "x = Conv2D(64, 3, padding='same', activation='relu',strides=(2, 2))(x)\n",
    "x = Conv2D(64, 3, padding='same', activation='relu')(x)\n",
    "x = Conv2D(64, 3, padding='same', activation='relu')(x)\n",
    "\n",
    "conv_shape =  K.int_shape(x)\n",
    "x = Flatten()(x)\n",
    "x = Dense(32, activation='relu')(x)\n",
    "\n",
    "z_mu = Dense(latent_dim, name='latent_mu')(x)   \n",
    "z_sigma = Dense(latent_dim, name='latent_sigma')(x)  \n",
    "\n",
    "def sample_z(args):\n",
    "    z_mu, z_sigma = args\n",
    "    eps = tf.keras.backend.random_normal(shape=(K.shape(z_mu)[0], K.int_shape(z_mu)[1]))\n",
    "    return z_mu + K.exp(z_sigma / 2) * eps\n",
    "\n",
    "\n",
    "z = Lambda(sample_z, output_shape=(latent_dim, ), name='z')([z_mu, z_sigma])\n",
    "\n",
    "encoder = Model(input_img, [z_mu, z_sigma, z], name='encoder')"
   ]
  },
  {
   "cell_type": "code",
   "execution_count": 3,
   "id": "ee1c58cf",
   "metadata": {},
   "outputs": [],
   "source": [
    "decoder_input = Input(shape=(latent_dim, ), name='decoder_input')\n",
    "\n",
    "x = Flatten()(decoder_input)\n",
    "x = Dense(conv_shape[1]*conv_shape[2]*conv_shape[3], activation='relu')(x)\n",
    "x = Reshape((conv_shape[1], conv_shape[2], conv_shape[3]))(x)\n",
    "x = Conv2DTranspose(32, 3, padding='same', activation='relu',strides=(2, 2))(x)\n",
    "x = Conv2DTranspose(1, 1, padding='same', activation='sigmoid', name = 'decoder_output')(x)\n",
    "\n",
    "\n",
    "decoder = Model(decoder_input, x, name='decoder')\n",
    "# decoder.summary()\n",
    "\n",
    "z_decoded = decoder(z)"
   ]
  },
  {
   "cell_type": "code",
   "execution_count": 4,
   "id": "daeda2b7",
   "metadata": {},
   "outputs": [
    {
     "name": "stdout",
     "output_type": "stream",
     "text": [
      "Model: \"vae\"\n",
      "__________________________________________________________________________________________________\n",
      "Layer (type)                    Output Shape         Param #     Connected to                     \n",
      "==================================================================================================\n",
      "encoder_input (InputLayer)      [(None, 64, 64, 4)]  0                                            \n",
      "__________________________________________________________________________________________________\n",
      "conv2d (Conv2D)                 (None, 64, 64, 32)   1184        encoder_input[0][0]              \n",
      "__________________________________________________________________________________________________\n",
      "conv2d_1 (Conv2D)               (None, 32, 32, 64)   18496       conv2d[0][0]                     \n",
      "__________________________________________________________________________________________________\n",
      "conv2d_2 (Conv2D)               (None, 32, 32, 64)   36928       conv2d_1[0][0]                   \n",
      "__________________________________________________________________________________________________\n",
      "conv2d_3 (Conv2D)               (None, 32, 32, 64)   36928       conv2d_2[0][0]                   \n",
      "__________________________________________________________________________________________________\n",
      "flatten (Flatten)               (None, 65536)        0           conv2d_3[0][0]                   \n",
      "__________________________________________________________________________________________________\n",
      "dense (Dense)                   (None, 32)           2097184     flatten[0][0]                    \n",
      "__________________________________________________________________________________________________\n",
      "latent_mu (Dense)               (None, 5)            165         dense[0][0]                      \n",
      "__________________________________________________________________________________________________\n",
      "latent_sigma (Dense)            (None, 5)            165         dense[0][0]                      \n",
      "__________________________________________________________________________________________________\n",
      "z (Lambda)                      (None, 5)            0           latent_mu[0][0]                  \n",
      "                                                                 latent_sigma[0][0]               \n",
      "__________________________________________________________________________________________________\n",
      "decoder (Functional)            (None, 64, 64, 1)    411713      z[0][0]                          \n",
      "==================================================================================================\n",
      "Total params: 2,602,763\n",
      "Trainable params: 2,602,763\n",
      "Non-trainable params: 0\n",
      "__________________________________________________________________________________________________\n"
     ]
    }
   ],
   "source": [
    "vae = Model(input_img, z_decoded, name='vae')\n",
    "\n",
    "# Compile VAE\n",
    "vae.summary()"
   ]
  },
  {
   "cell_type": "markdown",
   "id": "650819c0",
   "metadata": {},
   "source": [
    "### Loading data"
   ]
  },
  {
   "cell_type": "code",
   "execution_count": 5,
   "id": "30039955",
   "metadata": {},
   "outputs": [],
   "source": [
    "def read_images(files):\n",
    "    if type(files) == list:\n",
    "        temp = []\n",
    "        for i in files:\n",
    "            img = tf.keras.preprocessing.image.load_img(i)\n",
    "            img = tf.keras.preprocessing.image.img_to_array(img)\n",
    "            img = tf.image.resize(img, (64, 64))\n",
    "            img = tf.image.rgb_to_grayscale(img)\n",
    "            img /= 255.0\n",
    "            temp.append(img)\n",
    "            \n",
    "        temp = np.array(temp)\n",
    "        temp = np.concatenate(temp, axis = -1)\n",
    "        temp = np.reshape(temp, (64, 64, 4))\n",
    "        return temp\n",
    "    \n",
    "    else:\n",
    "        img = tf.keras.preprocessing.image.load_img(files)\n",
    "        img = tf.keras.preprocessing.image.img_to_array(img)\n",
    "        img = tf.image.resize(img, (64, 64))\n",
    "        img = tf.image.rgb_to_grayscale(img)\n",
    "        img /= 255.0\n",
    "\n",
    "        return img"
   ]
  },
  {
   "cell_type": "code",
   "execution_count": 6,
   "id": "2aa01105",
   "metadata": {},
   "outputs": [],
   "source": [
    "   \n",
    "def data_preprocessing(directory_path):\n",
    "    files_dict = dict()\n",
    "    \n",
    "    for img in os.listdir(directory_path):\n",
    "        \n",
    "        if img.split('_')[2] + '_' + img.split('_')[3] not in files_dict.keys():\n",
    "            files_dict[img.split('_')[2] + '_' + img.split('_')[3]] = [img]\n",
    "            \n",
    "        else:\n",
    "            files_dict[img.split('_')[2] + '_' + img.split('_')[3]].append(img)\n",
    "\n",
    "    groups = []\n",
    "\n",
    "    for keys, values in files_dict.items():\n",
    "        groups.append(values)\n",
    "\n",
    "    del files_dict\n",
    "    \n",
    "    labels = []\n",
    "    \n",
    "    for count, i in tqdm(enumerate(groups)):\n",
    "        for idx in range(len(i)):\n",
    "            if len(i[idx].split('_')[4].split('.')[0]) > 1:\n",
    "                labels.append(os.path.join(directory_path, groups[count][idx]))\n",
    "                groups[count].remove(groups[count][idx])\n",
    "                if len(groups[count]) >= 4:\n",
    "                    groups[count] = groups[count][:4]\n",
    "                    groups[count] = [os.path.join(directory_path, i) for i in groups[count]]\n",
    "                break\n",
    "    \n",
    "    X = np.array(list(map(read_images, groups)))\n",
    "    y = np.array(list(map(read_images, labels)))\n",
    "    \n",
    "    return X, y\n",
    "\n",
    "def big_set():\n",
    "    ## Reading\n",
    "    ntrain = 4000\n",
    "    Train_hdf5_file ='../Data/X_y_temp_4000.hdf5'\n",
    "    with h5py.File(Train_hdf5_file, 'r') as f:\n",
    "        print(len(f['x_train']))\n",
    "        y_train = f['x_train'][:ntrain]\n",
    "        x_train = f['y_train'][:ntrain]\n",
    "        y_test = f['x_test'][:int(ntrain/3)]\n",
    "        x_test = f['y_test'][:int(ntrain/3)]\n",
    "\n",
    "        x_train = np.swapaxes(x_train, 1, -1)\n",
    "        x_test = np.swapaxes(x_test, 1, -1)\n",
    "\n",
    "        return x_train, y_train, x_test, y_test"
   ]
  },
  {
   "cell_type": "code",
   "execution_count": 7,
   "id": "25d7994e",
   "metadata": {},
   "outputs": [
    {
     "name": "stderr",
     "output_type": "stream",
     "text": [
      "1170it [00:00, 154294.47it/s]\n"
     ]
    }
   ],
   "source": [
    "X, y = data_preprocessing('..\\\\..\\\\data\\\\data_256\\\\data')"
   ]
  },
  {
   "cell_type": "code",
   "execution_count": 8,
   "id": "7ebf817d",
   "metadata": {},
   "outputs": [],
   "source": [
    "x_train, x_test, y_train, y_test = X[:int(len(X)*0.8)], X[int(len(X)*0.8):], y[:int(len(X)*0.8)], y[int(len(X)*0.8):]\n",
    "del X, y\n",
    "plot_example = x_test[0:1]"
   ]
  },
  {
   "cell_type": "code",
   "execution_count": 9,
   "id": "31669d4b",
   "metadata": {},
   "outputs": [
    {
     "data": {
      "text/plain": [
       "(936, 64, 64, 4)"
      ]
     },
     "execution_count": 9,
     "metadata": {},
     "output_type": "execute_result"
    }
   ],
   "source": [
    "x_train.shape"
   ]
  },
  {
   "cell_type": "code",
   "execution_count": 10,
   "id": "2135ce09",
   "metadata": {},
   "outputs": [
    {
     "data": {
      "text/plain": [
       "(234, 64, 64, 1)"
      ]
     },
     "execution_count": 10,
     "metadata": {},
     "output_type": "execute_result"
    }
   ],
   "source": [
    "y_test.shape"
   ]
  },
  {
   "cell_type": "markdown",
   "id": "2d60152a",
   "metadata": {},
   "source": [
    "### Training"
   ]
  },
  {
   "cell_type": "code",
   "execution_count": 11,
   "id": "a5734af9",
   "metadata": {},
   "outputs": [],
   "source": [
    "train_data = tf.data.Dataset.from_tensor_slices((x_train, y_train)).batch(16)"
   ]
  },
  {
   "cell_type": "code",
   "execution_count": 12,
   "id": "c2914c85",
   "metadata": {},
   "outputs": [],
   "source": [
    "val_data = tf.data.Dataset.from_tensor_slices((x_test, y_test)).batch(16)"
   ]
  },
  {
   "cell_type": "code",
   "execution_count": 13,
   "id": "0e1d5a8f",
   "metadata": {},
   "outputs": [],
   "source": [
    "optimizer = tf.keras.optimizers.Adam()"
   ]
  },
  {
   "cell_type": "code",
   "execution_count": 14,
   "id": "da43b57d",
   "metadata": {},
   "outputs": [],
   "source": [
    "train_acc_metric = tf.keras.metrics.SparseCategoricalAccuracy()\n",
    "val_acc_metric = tf.keras.metrics.SparseCategoricalAccuracy()"
   ]
  },
  {
   "cell_type": "code",
   "execution_count": 15,
   "id": "1071345a",
   "metadata": {},
   "outputs": [],
   "source": [
    "def save_img(epoch):\n",
    "    image = vae(plot_example).numpy().reshape((64, 64)) * 255.0\n",
    "    if os.path.exists('progress'):\n",
    "        cv2.imwrite(f'progress/{epoch}.png', image)\n",
    "    else:\n",
    "        os.mkdir('progress')\n",
    "        cv2.imwrite(f'progress/{epoch}.png', image)"
   ]
  },
  {
   "cell_type": "code",
   "execution_count": 16,
   "id": "d7337400",
   "metadata": {},
   "outputs": [],
   "source": [
    "def vae_loss(y_true, y_pred, model):\n",
    "\n",
    "    # Reconstruction loss (as we used sigmoid activation we can use binarycrossentropy)\n",
    "    try:\n",
    "        assert(y_true.shape == y_pred.shape)\n",
    "        y_true = K.flatten(y_true)\n",
    "        y_pred = K.flatten(y_pred)\n",
    "        recon_loss = tf.keras.metrics.binary_crossentropy(y_true, y_pred)\n",
    "\n",
    "        # KL divergence\n",
    "        z_mu = vae.get_layer('latent_mu').weights[0]\n",
    "        z_sigma = vae.get_layer('latent_sigma').weights[0]\n",
    "\n",
    "        kl_loss = -5e-4 * tf.math.reduce_mean(1 + z_sigma - K.square(z_mu) - K.exp(z_sigma), axis=-1)\n",
    "\n",
    "        return (recon_loss + kl_loss) / 2\n",
    "    \n",
    "    except:\n",
    "        print(y_true.shape)\n",
    "        print(y_pred.shape)"
   ]
  },
  {
   "cell_type": "code",
   "execution_count": 17,
   "id": "23b56f45",
   "metadata": {},
   "outputs": [],
   "source": [
    "def apply_gradient(optimizer, model, x, y):\n",
    "    with tf.GradientTape() as tape:\n",
    "        logits = vae(x)\n",
    "        loss_value = vae_loss(y_true=y, y_pred=logits, model = vae)\n",
    "        \n",
    "    gradients = tape.gradient(loss_value, model.trainable_weights)\n",
    "    optimizer.apply_gradients(zip(gradients, model.trainable_weights))\n",
    "\n",
    "    loss_value = np.mean(loss_value)\n",
    "    return logits, loss_value"
   ]
  },
  {
   "cell_type": "code",
   "execution_count": 18,
   "id": "3ebe944f",
   "metadata": {},
   "outputs": [],
   "source": [
    "def train_data_for_one_epoch(data, epoch):\n",
    "    losses = []\n",
    "    pbar = tqdm(total=len(list(enumerate(data))), position=0, leave=True, bar_format='{l_bar}{bar}| {n_fmt}/{total_fmt} ')\n",
    "    for step, (x_batch_train, y_batch_train) in enumerate(data):\n",
    "        logits, loss_value = apply_gradient(optimizer, vae, x_batch_train, y_batch_train)\n",
    "      \n",
    "        losses.append(loss_value)\n",
    "        \n",
    "        train_acc_metric(y_batch_train, logits)\n",
    "        \n",
    "        pbar.set_description(\"Training loss for step %s: %.4f\" % (int(step), float(loss_value)))\n",
    "        pbar.update()\n",
    "    \n",
    "    save_img(epoch)\n",
    "    return losses"
   ]
  },
  {
   "cell_type": "code",
   "execution_count": 19,
   "id": "635ecc59",
   "metadata": {},
   "outputs": [],
   "source": [
    "def perform_validation(test):\n",
    "    losses = []\n",
    "    for x_val, y_val in test:\n",
    "        val_logits = vae(x_val)\n",
    "        val_loss = vae_loss(y_true=y_val, y_pred=val_logits, model = vae)\n",
    "        losses.append(np.mean(val_loss))\n",
    "        val_acc_metric(y_val, val_logits)\n",
    "    return losses"
   ]
  },
  {
   "cell_type": "code",
   "execution_count": null,
   "id": "289f6ad8",
   "metadata": {},
   "outputs": [],
   "source": []
  },
  {
   "cell_type": "code",
   "execution_count": 27,
   "id": "20ea8a23",
   "metadata": {},
   "outputs": [
    {
     "data": {
      "text/plain": [
       "0.27710065"
      ]
     },
     "execution_count": 27,
     "metadata": {},
     "output_type": "execute_result"
    }
   ],
   "source": [
    "acc = tf.keras.metrics.SparseCategoricalAccuracy()\n",
    "acc.update_state(y_train, vae.predict(x_train))\n",
    "acc.result().numpy()"
   ]
  },
  {
   "cell_type": "code",
   "execution_count": 28,
   "id": "0375d8a6",
   "metadata": {},
   "outputs": [],
   "source": [
    "losses_training = []\n",
    "losses_validation = []\n",
    "\n",
    "accuracy_training = []\n",
    "accuracy_validation = []"
   ]
  },
  {
   "cell_type": "code",
   "execution_count": 39,
   "id": "6e89d916",
   "metadata": {},
   "outputs": [
    {
     "name": "stdout",
     "output_type": "stream",
     "text": [
      "Start of epoch 0\n"
     ]
    },
    {
     "name": "stderr",
     "output_type": "stream",
     "text": [
      "Training loss for step 58: 0.0249:  98%|█████████████████████████████████████████████████████████████████████▊ | 58/59 "
     ]
    },
    {
     "name": "stdout",
     "output_type": "stream",
     "text": [
      "\n",
      " Epoch 0: Train loss: 0.0226  Validation Loss: 0.1165 Train Accuracy: 0.2771 Validation Accuracy 0.2725\n",
      "Start of epoch 1\n"
     ]
    },
    {
     "name": "stderr",
     "output_type": "stream",
     "text": [
      "Training loss for step 58: 0.0228: 100%|███████████████████████████████████████████████████████████████████████| 59/59 \n"
     ]
    },
    {
     "name": "stdout",
     "output_type": "stream",
     "text": [
      "\n",
      " Epoch 1: Train loss: 0.0225  Validation Loss: 0.1118 Train Accuracy: 0.2771 Validation Accuracy 0.2725\n",
      "Start of epoch 2\n"
     ]
    },
    {
     "name": "stderr",
     "output_type": "stream",
     "text": [
      "Training loss for step 58: 0.0222: 100%|███████████████████████████████████████████████████████████████████████| 59/59 \n"
     ]
    },
    {
     "name": "stdout",
     "output_type": "stream",
     "text": [
      "\n",
      " Epoch 2: Train loss: 0.0222  Validation Loss: 0.1110 Train Accuracy: 0.2771 Validation Accuracy 0.2725\n",
      "Start of epoch 3\n"
     ]
    },
    {
     "name": "stderr",
     "output_type": "stream",
     "text": [
      "Training loss for step 58: 0.0227: 100%|███████████████████████████████████████████████████████████████████████| 59/59 \n"
     ]
    },
    {
     "name": "stdout",
     "output_type": "stream",
     "text": [
      "\n",
      " Epoch 3: Train loss: 0.0233  Validation Loss: 0.0825 Train Accuracy: 0.2771 Validation Accuracy 0.2725\n",
      "Start of epoch 4\n"
     ]
    },
    {
     "name": "stderr",
     "output_type": "stream",
     "text": [
      "Training loss for step 58: 0.0244: 100%|███████████████████████████████████████████████████████████████████████| 59/59 \n"
     ]
    },
    {
     "name": "stdout",
     "output_type": "stream",
     "text": [
      "\n",
      " Epoch 4: Train loss: 0.0273  Validation Loss: 0.0790 Train Accuracy: 0.2771 Validation Accuracy 0.2725\n",
      "Start of epoch 5\n"
     ]
    },
    {
     "name": "stderr",
     "output_type": "stream",
     "text": [
      "Training loss for step 58: 0.0247: 100%|███████████████████████████████████████████████████████████████████████| 59/59 \n"
     ]
    },
    {
     "name": "stdout",
     "output_type": "stream",
     "text": [
      "\n",
      " Epoch 5: Train loss: 0.0419  Validation Loss: 0.0826 Train Accuracy: 0.2771 Validation Accuracy 0.2725\n",
      "Start of epoch 6\n"
     ]
    },
    {
     "name": "stderr",
     "output_type": "stream",
     "text": [
      "Training loss for step 58: 0.0249: 100%|███████████████████████████████████████████████████████████████████████| 59/59 \n",
      "Training loss for step 58: 0.0253: 100%|███████████████████████████████████████████████████████████████████████| 59/59 \n"
     ]
    },
    {
     "name": "stdout",
     "output_type": "stream",
     "text": [
      "\n",
      " Epoch 6: Train loss: 0.0403  Validation Loss: 0.0813 Train Accuracy: 0.2771 Validation Accuracy 0.2725\n",
      "Start of epoch 7\n"
     ]
    },
    {
     "name": "stderr",
     "output_type": "stream",
     "text": [
      "Training loss for step 58: 0.0251: 100%|███████████████████████████████████████████████████████████████████████| 59/59 \n"
     ]
    },
    {
     "name": "stdout",
     "output_type": "stream",
     "text": [
      "\n",
      " Epoch 7: Train loss: 0.0338  Validation Loss: 0.0753 Train Accuracy: 0.2771 Validation Accuracy 0.2725\n",
      "Start of epoch 8\n"
     ]
    },
    {
     "name": "stderr",
     "output_type": "stream",
     "text": [
      "Training loss for step 58: 0.0226: 100%|███████████████████████████████████████████████████████████████████████| 59/59 \n"
     ]
    },
    {
     "name": "stdout",
     "output_type": "stream",
     "text": [
      "\n",
      " Epoch 8: Train loss: 0.0257  Validation Loss: 0.0747 Train Accuracy: 0.2771 Validation Accuracy 0.2725\n",
      "Start of epoch 9\n"
     ]
    },
    {
     "name": "stderr",
     "output_type": "stream",
     "text": [
      "Training loss for step 58: 0.0240: 100%|███████████████████████████████████████████████████████████████████████| 59/59 \n"
     ]
    },
    {
     "name": "stdout",
     "output_type": "stream",
     "text": [
      "\n",
      " Epoch 9: Train loss: 0.0264  Validation Loss: 0.0758 Train Accuracy: 0.2771 Validation Accuracy 0.2725\n",
      "Start of epoch 10\n"
     ]
    },
    {
     "name": "stderr",
     "output_type": "stream",
     "text": [
      "Training loss for step 58: 0.0225: 100%|███████████████████████████████████████████████████████████████████████| 59/59 \n"
     ]
    },
    {
     "name": "stdout",
     "output_type": "stream",
     "text": [
      "\n",
      " Epoch 10: Train loss: 0.0258  Validation Loss: 0.0748 Train Accuracy: 0.2771 Validation Accuracy 0.2725\n",
      "Start of epoch 11\n"
     ]
    },
    {
     "name": "stderr",
     "output_type": "stream",
     "text": [
      "Training loss for step 58: 0.0227: 100%|███████████████████████████████████████████████████████████████████████| 59/59 \n"
     ]
    },
    {
     "name": "stdout",
     "output_type": "stream",
     "text": [
      "\n",
      " Epoch 11: Train loss: 0.0259  Validation Loss: 0.0750 Train Accuracy: 0.2771 Validation Accuracy 0.2725\n",
      "Start of epoch 12\n"
     ]
    },
    {
     "name": "stderr",
     "output_type": "stream",
     "text": [
      "Training loss for step 58: 0.0208: 100%|███████████████████████████████████████████████████████████████████████| 59/59 \n"
     ]
    },
    {
     "name": "stdout",
     "output_type": "stream",
     "text": [
      "\n",
      " Epoch 12: Train loss: 0.0223  Validation Loss: 0.0750 Train Accuracy: 0.2771 Validation Accuracy 0.2725\n",
      "Start of epoch 13\n"
     ]
    },
    {
     "name": "stderr",
     "output_type": "stream",
     "text": [
      "Training loss for step 58: 0.0206: 100%|███████████████████████████████████████████████████████████████████████| 59/59 \n"
     ]
    },
    {
     "name": "stdout",
     "output_type": "stream",
     "text": [
      "\n",
      " Epoch 13: Train loss: 0.0230  Validation Loss: 0.0735 Train Accuracy: 0.2771 Validation Accuracy 0.2725\n",
      "Start of epoch 14\n"
     ]
    },
    {
     "name": "stderr",
     "output_type": "stream",
     "text": [
      "Training loss for step 58: 0.0198: 100%|███████████████████████████████████████████████████████████████████████| 59/59 \n"
     ]
    },
    {
     "name": "stdout",
     "output_type": "stream",
     "text": [
      "\n",
      " Epoch 14: Train loss: 0.0212  Validation Loss: 0.0737 Train Accuracy: 0.2771 Validation Accuracy 0.2725\n",
      "Start of epoch 15\n"
     ]
    },
    {
     "name": "stderr",
     "output_type": "stream",
     "text": [
      "Training loss for step 58: 0.0264: 100%|███████████████████████████████████████████████████████████████████████| 59/59 \n"
     ]
    },
    {
     "name": "stdout",
     "output_type": "stream",
     "text": [
      "\n",
      " Epoch 15: Train loss: 0.0209  Validation Loss: 0.0859 Train Accuracy: 0.2771 Validation Accuracy 0.2725\n",
      "Start of epoch 16\n"
     ]
    },
    {
     "name": "stderr",
     "output_type": "stream",
     "text": [
      "Training loss for step 58: 0.0205: 100%|███████████████████████████████████████████████████████████████████████| 59/59 \n"
     ]
    },
    {
     "name": "stdout",
     "output_type": "stream",
     "text": [
      "\n",
      " Epoch 16: Train loss: 0.0211  Validation Loss: 0.0799 Train Accuracy: 0.2771 Validation Accuracy 0.2725\n",
      "Start of epoch 17\n"
     ]
    },
    {
     "name": "stderr",
     "output_type": "stream",
     "text": [
      "Training loss for step 58: 0.0219: 100%|███████████████████████████████████████████████████████████████████████| 59/59 \n"
     ]
    },
    {
     "name": "stdout",
     "output_type": "stream",
     "text": [
      "\n",
      " Epoch 17: Train loss: 0.0294  Validation Loss: 0.0743 Train Accuracy: 0.2771 Validation Accuracy 0.2725\n",
      "Start of epoch 18\n"
     ]
    },
    {
     "name": "stderr",
     "output_type": "stream",
     "text": [
      "Training loss for step 58: 0.0205: 100%|███████████████████████████████████████████████████████████████████████| 59/59 \n"
     ]
    },
    {
     "name": "stdout",
     "output_type": "stream",
     "text": [
      "\n",
      " Epoch 18: Train loss: 0.0225  Validation Loss: 0.0773 Train Accuracy: 0.2771 Validation Accuracy 0.2725\n",
      "Start of epoch 19\n"
     ]
    },
    {
     "name": "stderr",
     "output_type": "stream",
     "text": [
      "Training loss for step 58: 0.0218: 100%|███████████████████████████████████████████████████████████████████████| 59/59 \n"
     ]
    },
    {
     "name": "stdout",
     "output_type": "stream",
     "text": [
      "\n",
      " Epoch 19: Train loss: 0.0211  Validation Loss: 0.0822 Train Accuracy: 0.2771 Validation Accuracy 0.2725\n",
      "Start of epoch 20\n"
     ]
    },
    {
     "name": "stderr",
     "output_type": "stream",
     "text": [
      "Training loss for step 58: 0.0217: 100%|███████████████████████████████████████████████████████████████████████| 59/59 \n"
     ]
    },
    {
     "name": "stdout",
     "output_type": "stream",
     "text": [
      "\n",
      " Epoch 20: Train loss: 0.0206  Validation Loss: 0.0760 Train Accuracy: 0.2771 Validation Accuracy 0.2725\n",
      "Start of epoch 21\n"
     ]
    },
    {
     "name": "stderr",
     "output_type": "stream",
     "text": [
      "Training loss for step 58: 0.0213: 100%|███████████████████████████████████████████████████████████████████████| 59/59 \n"
     ]
    },
    {
     "name": "stdout",
     "output_type": "stream",
     "text": [
      "\n",
      " Epoch 21: Train loss: 0.0209  Validation Loss: 0.0740 Train Accuracy: 0.2771 Validation Accuracy 0.2725\n",
      "Start of epoch 22\n"
     ]
    },
    {
     "name": "stderr",
     "output_type": "stream",
     "text": [
      "Training loss for step 58: 0.0236: 100%|███████████████████████████████████████████████████████████████████████| 59/59 \n"
     ]
    },
    {
     "name": "stdout",
     "output_type": "stream",
     "text": [
      "\n",
      " Epoch 22: Train loss: 0.0247  Validation Loss: 0.0862 Train Accuracy: 0.2771 Validation Accuracy 0.2725\n",
      "Start of epoch 23\n"
     ]
    },
    {
     "name": "stderr",
     "output_type": "stream",
     "text": [
      "Training loss for step 58: 0.0226: 100%|███████████████████████████████████████████████████████████████████████| 59/59 \n"
     ]
    },
    {
     "name": "stdout",
     "output_type": "stream",
     "text": [
      "\n",
      " Epoch 23: Train loss: 0.0231  Validation Loss: 0.0800 Train Accuracy: 0.2771 Validation Accuracy 0.2725\n",
      "Start of epoch 24\n"
     ]
    },
    {
     "name": "stderr",
     "output_type": "stream",
     "text": [
      "Training loss for step 58: 0.0202: 100%|███████████████████████████████████████████████████████████████████████| 59/59 \n"
     ]
    },
    {
     "name": "stdout",
     "output_type": "stream",
     "text": [
      "\n",
      " Epoch 24: Train loss: 0.0234  Validation Loss: 0.0743 Train Accuracy: 0.2771 Validation Accuracy 0.2725\n",
      "Start of epoch 25\n"
     ]
    },
    {
     "name": "stderr",
     "output_type": "stream",
     "text": [
      "Training loss for step 58: 0.0199: 100%|███████████████████████████████████████████████████████████████████████| 59/59 \n"
     ]
    },
    {
     "name": "stdout",
     "output_type": "stream",
     "text": [
      "\n",
      " Epoch 25: Train loss: 0.0206  Validation Loss: 0.0778 Train Accuracy: 0.2771 Validation Accuracy 0.2725\n",
      "Start of epoch 26\n"
     ]
    },
    {
     "name": "stderr",
     "output_type": "stream",
     "text": [
      "Training loss for step 58: 0.0208: 100%|███████████████████████████████████████████████████████████████████████| 59/59 \n"
     ]
    },
    {
     "name": "stdout",
     "output_type": "stream",
     "text": [
      "\n",
      " Epoch 26: Train loss: 0.0207  Validation Loss: 0.0719 Train Accuracy: 0.2771 Validation Accuracy 0.2725\n",
      "Start of epoch 27\n"
     ]
    },
    {
     "name": "stderr",
     "output_type": "stream",
     "text": [
      "Training loss for step 58: 0.0201: 100%|███████████████████████████████████████████████████████████████████████| 59/59 \n"
     ]
    },
    {
     "name": "stdout",
     "output_type": "stream",
     "text": [
      "\n",
      " Epoch 27: Train loss: 0.0199  Validation Loss: 0.0762 Train Accuracy: 0.2771 Validation Accuracy 0.2725\n",
      "Start of epoch 28\n"
     ]
    },
    {
     "name": "stderr",
     "output_type": "stream",
     "text": [
      "Training loss for step 58: 0.0207: 100%|███████████████████████████████████████████████████████████████████████| 59/59 \n"
     ]
    },
    {
     "name": "stdout",
     "output_type": "stream",
     "text": [
      "\n",
      " Epoch 28: Train loss: 0.0210  Validation Loss: 0.0714 Train Accuracy: 0.2771 Validation Accuracy 0.2725\n",
      "Start of epoch 29\n"
     ]
    },
    {
     "name": "stderr",
     "output_type": "stream",
     "text": [
      "Training loss for step 58: 0.0195: 100%|███████████████████████████████████████████████████████████████████████| 59/59 \n"
     ]
    },
    {
     "name": "stdout",
     "output_type": "stream",
     "text": [
      "\n",
      " Epoch 29: Train loss: 0.0196  Validation Loss: 0.0754 Train Accuracy: 0.2771 Validation Accuracy 0.2725\n",
      "Start of epoch 30\n"
     ]
    },
    {
     "name": "stderr",
     "output_type": "stream",
     "text": [
      "Training loss for step 58: 0.0312: 100%|███████████████████████████████████████████████████████████████████████| 59/59 \n"
     ]
    },
    {
     "name": "stdout",
     "output_type": "stream",
     "text": [
      "\n",
      " Epoch 30: Train loss: 0.0217  Validation Loss: 0.0885 Train Accuracy: 0.2771 Validation Accuracy 0.2725\n",
      "Start of epoch 31\n"
     ]
    },
    {
     "name": "stderr",
     "output_type": "stream",
     "text": [
      "Training loss for step 58: 0.0215: 100%|███████████████████████████████████████████████████████████████████████| 59/59 \n"
     ]
    },
    {
     "name": "stdout",
     "output_type": "stream",
     "text": [
      "\n",
      " Epoch 31: Train loss: 0.0208  Validation Loss: 0.0812 Train Accuracy: 0.2771 Validation Accuracy 0.2725\n",
      "Start of epoch 32\n"
     ]
    },
    {
     "name": "stderr",
     "output_type": "stream",
     "text": [
      "Training loss for step 58: 0.0219: 100%|███████████████████████████████████████████████████████████████████████| 59/59 \n"
     ]
    },
    {
     "name": "stdout",
     "output_type": "stream",
     "text": [
      "\n",
      " Epoch 32: Train loss: 0.0271  Validation Loss: 0.0803 Train Accuracy: 0.2771 Validation Accuracy 0.2725\n",
      "Start of epoch 33\n"
     ]
    },
    {
     "name": "stderr",
     "output_type": "stream",
     "text": [
      "Training loss for step 58: 0.0210: 100%|███████████████████████████████████████████████████████████████████████| 59/59 \n"
     ]
    },
    {
     "name": "stdout",
     "output_type": "stream",
     "text": [
      "\n",
      " Epoch 33: Train loss: 0.0220  Validation Loss: 0.0811 Train Accuracy: 0.2771 Validation Accuracy 0.2725\n",
      "Start of epoch 34\n"
     ]
    },
    {
     "name": "stderr",
     "output_type": "stream",
     "text": [
      "Training loss for step 58: 0.0196: 100%|███████████████████████████████████████████████████████████████████████| 59/59 \n"
     ]
    },
    {
     "name": "stdout",
     "output_type": "stream",
     "text": [
      "\n",
      " Epoch 34: Train loss: 0.0252  Validation Loss: 0.0693 Train Accuracy: 0.2771 Validation Accuracy 0.2725\n",
      "Start of epoch 35\n"
     ]
    },
    {
     "name": "stderr",
     "output_type": "stream",
     "text": [
      "Training loss for step 58: 0.0222: 100%|███████████████████████████████████████████████████████████████████████| 59/59 \n"
     ]
    },
    {
     "name": "stdout",
     "output_type": "stream",
     "text": [
      "\n",
      " Epoch 35: Train loss: 0.0233  Validation Loss: 0.0826 Train Accuracy: 0.2771 Validation Accuracy 0.2725\n",
      "Start of epoch 36\n"
     ]
    },
    {
     "name": "stderr",
     "output_type": "stream",
     "text": [
      "Training loss for step 58: 0.0183: 100%|███████████████████████████████████████████████████████████████████████| 59/59 \n"
     ]
    },
    {
     "name": "stdout",
     "output_type": "stream",
     "text": [
      "\n",
      " Epoch 36: Train loss: 0.0205  Validation Loss: 0.0700 Train Accuracy: 0.2771 Validation Accuracy 0.2725\n",
      "Start of epoch 37\n"
     ]
    },
    {
     "name": "stderr",
     "output_type": "stream",
     "text": [
      "Training loss for step 58: 0.0191: 100%|███████████████████████████████████████████████████████████████████████| 59/59 \n"
     ]
    },
    {
     "name": "stdout",
     "output_type": "stream",
     "text": [
      "\n",
      " Epoch 37: Train loss: 0.0210  Validation Loss: 0.0764 Train Accuracy: 0.2771 Validation Accuracy 0.2725\n",
      "Start of epoch 38\n"
     ]
    },
    {
     "name": "stderr",
     "output_type": "stream",
     "text": [
      "Training loss for step 58: 0.0195: 100%|███████████████████████████████████████████████████████████████████████| 59/59 \n"
     ]
    },
    {
     "name": "stdout",
     "output_type": "stream",
     "text": [
      "\n",
      " Epoch 38: Train loss: 0.0194  Validation Loss: 0.0691 Train Accuracy: 0.2771 Validation Accuracy 0.2725\n",
      "Start of epoch 39\n"
     ]
    },
    {
     "name": "stderr",
     "output_type": "stream",
     "text": [
      "Training loss for step 58: 0.0178: 100%|███████████████████████████████████████████████████████████████████████| 59/59 \n"
     ]
    },
    {
     "name": "stdout",
     "output_type": "stream",
     "text": [
      "\n",
      " Epoch 39: Train loss: 0.0191  Validation Loss: 0.0704 Train Accuracy: 0.2771 Validation Accuracy 0.2725\n",
      "Start of epoch 40\n"
     ]
    },
    {
     "name": "stderr",
     "output_type": "stream",
     "text": [
      "Training loss for step 58: 0.0192: 100%|███████████████████████████████████████████████████████████████████████| 59/59 \n"
     ]
    },
    {
     "name": "stdout",
     "output_type": "stream",
     "text": [
      "\n",
      " Epoch 40: Train loss: 0.0201  Validation Loss: 0.0798 Train Accuracy: 0.2771 Validation Accuracy 0.2725\n",
      "Start of epoch 41\n"
     ]
    },
    {
     "name": "stderr",
     "output_type": "stream",
     "text": [
      "Training loss for step 58: 0.0206: 100%|███████████████████████████████████████████████████████████████████████| 59/59 \n"
     ]
    },
    {
     "name": "stdout",
     "output_type": "stream",
     "text": [
      "\n",
      " Epoch 41: Train loss: 0.0186  Validation Loss: 0.0827 Train Accuracy: 0.2771 Validation Accuracy 0.2725\n",
      "Start of epoch 42\n"
     ]
    },
    {
     "name": "stderr",
     "output_type": "stream",
     "text": [
      "Training loss for step 58: 0.0215: 100%|███████████████████████████████████████████████████████████████████████| 59/59 \n"
     ]
    },
    {
     "name": "stdout",
     "output_type": "stream",
     "text": [
      "\n",
      " Epoch 42: Train loss: 0.0195  Validation Loss: 0.0796 Train Accuracy: 0.2771 Validation Accuracy 0.2725\n",
      "Start of epoch 43\n"
     ]
    },
    {
     "name": "stderr",
     "output_type": "stream",
     "text": [
      "Training loss for step 58: 0.0187: 100%|███████████████████████████████████████████████████████████████████████| 59/59 \n"
     ]
    },
    {
     "name": "stdout",
     "output_type": "stream",
     "text": [
      "\n",
      " Epoch 43: Train loss: 0.0214  Validation Loss: 0.0763 Train Accuracy: 0.2771 Validation Accuracy 0.2725\n",
      "Start of epoch 44\n"
     ]
    },
    {
     "name": "stderr",
     "output_type": "stream",
     "text": [
      "Training loss for step 58: 0.0229: 100%|███████████████████████████████████████████████████████████████████████| 59/59 \n"
     ]
    },
    {
     "name": "stdout",
     "output_type": "stream",
     "text": [
      "\n",
      " Epoch 44: Train loss: 0.0219  Validation Loss: 0.0951 Train Accuracy: 0.2771 Validation Accuracy 0.2725\n",
      "Start of epoch 45\n"
     ]
    },
    {
     "name": "stderr",
     "output_type": "stream",
     "text": [
      "Training loss for step 58: 0.0194: 100%|███████████████████████████████████████████████████████████████████████| 59/59 \n"
     ]
    },
    {
     "name": "stdout",
     "output_type": "stream",
     "text": [
      "\n",
      " Epoch 45: Train loss: 0.0215  Validation Loss: 0.0804 Train Accuracy: 0.2771 Validation Accuracy 0.2725\n",
      "Start of epoch 46\n"
     ]
    },
    {
     "name": "stderr",
     "output_type": "stream",
     "text": [
      "Training loss for step 58: 0.0187: 100%|███████████████████████████████████████████████████████████████████████| 59/59 \n"
     ]
    },
    {
     "name": "stdout",
     "output_type": "stream",
     "text": [
      "\n",
      " Epoch 46: Train loss: 0.0197  Validation Loss: 0.0885 Train Accuracy: 0.2771 Validation Accuracy 0.2725\n",
      "Start of epoch 47\n"
     ]
    },
    {
     "name": "stderr",
     "output_type": "stream",
     "text": [
      "Training loss for step 58: 0.0179: 100%|███████████████████████████████████████████████████████████████████████| 59/59 \n"
     ]
    },
    {
     "name": "stdout",
     "output_type": "stream",
     "text": [
      "\n",
      " Epoch 47: Train loss: 0.0192  Validation Loss: 0.0820 Train Accuracy: 0.2771 Validation Accuracy 0.2725\n",
      "Start of epoch 48\n"
     ]
    },
    {
     "name": "stderr",
     "output_type": "stream",
     "text": [
      "Training loss for step 58: 0.0196: 100%|███████████████████████████████████████████████████████████████████████| 59/59 \n"
     ]
    },
    {
     "name": "stdout",
     "output_type": "stream",
     "text": [
      "\n",
      " Epoch 48: Train loss: 0.0192  Validation Loss: 0.0944 Train Accuracy: 0.2771 Validation Accuracy 0.2725\n",
      "Start of epoch 49\n"
     ]
    },
    {
     "name": "stderr",
     "output_type": "stream",
     "text": [
      "Training loss for step 58: 0.0192:  98%|█████████████████████████████████████████████████████████████████████▊ | 58/59 "
     ]
    },
    {
     "name": "stdout",
     "output_type": "stream",
     "text": [
      "\n",
      " Epoch 49: Train loss: 0.0200  Validation Loss: 0.0899 Train Accuracy: 0.2771 Validation Accuracy 0.2725\n"
     ]
    }
   ],
   "source": [
    "for epoch in range(50):\n",
    "    print('Start of epoch %d' % (epoch,))\n",
    "  \n",
    "    losses_train = train_data_for_one_epoch(train_data, epoch)\n",
    "    train_acc = train_acc_metric.result()\n",
    "\n",
    "    losses_val = perform_validation(val_data)\n",
    "    val_acc = val_acc_metric.result()\n",
    "\n",
    "    losses_train_mean = np.mean(losses_train)\n",
    "    losses_val_mean = np.mean(losses_val)\n",
    "        \n",
    "    losses_training.append(losses_train_mean)\n",
    "    losses_validation.append(losses_val_mean)\n",
    "    \n",
    "    accuracy_training.append(train_acc)\n",
    "    accuracy_validation.append(val_acc)\n",
    "    \n",
    "    print('\\n Epoch %s: Train loss: %.4f  Validation Loss: %.4f Train Accuracy: %.4f Validation Accuracy %.4f' % (epoch, float(losses_train_mean), float(losses_val_mean), float(train_acc), float(val_acc)))\n",
    "  \n",
    "    train_acc_metric.reset_states()\n",
    "    val_acc_metric.reset_states()"
   ]
  },
  {
   "cell_type": "code",
   "execution_count": 40,
   "id": "07d98f3d",
   "metadata": {},
   "outputs": [
    {
     "name": "stderr",
     "output_type": "stream",
     "text": [
      "Training loss for step 58: 0.0192: 100%|███████████████████████████████████████████████████████████████████████| 59/59 \n"
     ]
    },
    {
     "data": {
      "image/png": "[encoded data removed]",
      "text/plain": [
       "<Figure size 432x288 with 1 Axes>"
      ]
     },
     "metadata": {
      "needs_background": "light"
     },
     "output_type": "display_data"
    }
   ],
   "source": [
    "from matplotlib import pyplot as plt\n",
    "\n",
    "plt.plot(losses_training)\n",
    "plt.plot(losses_validation)\n",
    "plt.xlabel('epoch')\n",
    "plt.ylabel('loss')\n",
    "plt.ylim([0, 0.25])\n",
    "plt.title('VAE loss')\n",
    "plt.legend(['train', 'validation'], loc = 'upper left')\n",
    "plt.show()"
   ]
  },
  {
   "cell_type": "code",
   "execution_count": 41,
   "id": "6420b619",
   "metadata": {},
   "outputs": [
    {
     "data": {
      "image/png": "[encoded data removed]",
      "text/plain": [
       "<Figure size 432x288 with 1 Axes>"
      ]
     },
     "metadata": {
      "needs_background": "light"
     },
     "output_type": "display_data"
    }
   ],
   "source": [
    "import matplotlib.pyplot as plt\n",
    "\n",
    "plt.plot(accuracy_training)\n",
    "plt.plot(accuracy_validation)\n",
    "plt.xlabel('Epoch')\n",
    "plt.ylabel('Accuracy')\n",
    "plt.ylim([0.260, 0.290])\n",
    "plt.title('Sparse Categorical Accuracy')\n",
    "plt.legend(['train', 'validation'], loc = 'upper left')\n",
    "plt.show()"
   ]
  },
  {
   "cell_type": "code",
   "execution_count": 42,
   "id": "c00e1017",
   "metadata": {},
   "outputs": [],
   "source": [
    "accuracy = [0 for i in range(100)]"
   ]
  },
  {
   "cell_type": "code",
   "execution_count": 44,
   "id": "e04f33d4",
   "metadata": {},
   "outputs": [
    {
     "data": {
      "image/png": "[encoded data removed]",
      "text/plain": [
       "<Figure size 432x288 with 1 Axes>"
      ]
     },
     "metadata": {
      "needs_background": "light"
     },
     "output_type": "display_data"
    }
   ],
   "source": [
    "import matplotlib.pyplot as plt\n",
    "\n",
    "plt.plot(accuracy)\n",
    "plt.plot(accuracy, )\n",
    "plt.xlabel('Epoch')\n",
    "plt.ylabel('Accuracy')\n",
    "plt.ylim([-1, 1])\n",
    "plt.title('SAccuracy')\n",
    "plt.legend(['train', 'validation'], loc = 'upper left')\n",
    "plt.show()"
   ]
  },
  {
   "cell_type": "code",
   "execution_count": 42,
   "id": "7e84ccbe",
   "metadata": {},
   "outputs": [
    {
     "name": "stderr",
     "output_type": "stream",
     "text": [
      "\r",
      "Training loss for step 58: 0.0251: 100%|███████████████████████████████████████████████████████████████████████| 59/59 "
     ]
    }
   ],
   "source": [
    "png_dir = 'progress'\n",
    "images = []\n",
    "for file_name in sorted(os.listdir(png_dir)):\n",
    "    if file_name.endswith('.png'):\n",
    "        file_path = os.path.join(png_dir, file_name)\n",
    "        images.append(imageio.imread(file_path))\n",
    "imageio.mimsave('movie.gif', images, fps = 10)"
   ]
  },
  {
   "cell_type": "code",
   "execution_count": 43,
   "id": "440dd431",
   "metadata": {},
   "outputs": [
    {
     "name": "stderr",
     "output_type": "stream",
     "text": [
      "Training loss for step 58: 0.0251: 100%|███████████████████████████████████████████████████████████████████████| 59/59 \n"
     ]
    }
   ],
   "source": [
    "vae.save('models/vae_main.h5')"
   ]
  }
 ],
 "metadata": {
  "kernelspec": {
   "display_name": "deeplearning",
   "language": "python",
   "name": "deeplearning"
  },
  "language_info": {
   "codemirror_mode": {
    "name": "ipython",
    "version": 3
   },
   "file_extension": ".py",
   "mimetype": "text/x-python",
   "name": "python",
   "nbconvert_exporter": "python",
   "pygments_lexer": "ipython3",
   "version": "3.8.6"
  }
 },
 "nbformat": 4,
 "nbformat_minor": 5
}
